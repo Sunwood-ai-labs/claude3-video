{
  "cells": [
    {
      "cell_type": "code",
      "execution_count": 1,
      "metadata": {
        "colab": {
          "base_uri": "https://localhost:8080/"
        },
        "id": "yOLs670c5H6P",
        "outputId": "73fdb17c-c5ed-4848-eb16-192ecc8c3786"
      },
      "outputs": [
        {
          "name": "stdout",
          "output_type": "stream",
          "text": [
            "\u001b[33m\r0% [Working]\u001b[0m\r            \rHit:1 https://cloud.r-project.org/bin/linux/ubuntu jammy-cran40/ InRelease\n",
            "\u001b[33m\r0% [Connecting to archive.ubuntu.com (185.125.190.36)] [Waiting for headers] [Connecting to ppa.laun\u001b[0m\r                                                                                                    \rHit:2 https://developer.download.nvidia.com/compute/cuda/repos/ubuntu2204/x86_64  InRelease\n",
            "\u001b[33m\r0% [Waiting for headers] [Waiting for headers] [Connecting to ppa.launchpadcontent.net (185.125.190.\u001b[0m\r                                                                                                    \rHit:3 http://security.ubuntu.com/ubuntu jammy-security InRelease\n",
            "Hit:4 http://archive.ubuntu.com/ubuntu jammy InRelease\n",
            "Hit:5 http://archive.ubuntu.com/ubuntu jammy-updates InRelease\n",
            "Hit:6 http://archive.ubuntu.com/ubuntu jammy-backports InRelease\n",
            "Hit:7 https://ppa.launchpadcontent.net/c2d4u.team/c2d4u4.0+/ubuntu jammy InRelease\n",
            "Hit:8 https://ppa.launchpadcontent.net/deadsnakes/ppa/ubuntu jammy InRelease\n",
            "Hit:9 https://ppa.launchpadcontent.net/graphics-drivers/ppa/ubuntu jammy InRelease\n",
            "Hit:10 https://ppa.launchpadcontent.net/ubuntugis/ppa/ubuntu jammy InRelease\n",
            "Reading package lists... Done\n",
            "Building dependency tree... Done\n",
            "Reading state information... Done\n",
            "40 packages can be upgraded. Run 'apt list --upgradable' to see them.\n",
            "Reading package lists... Done\n",
            "Building dependency tree... Done\n",
            "Reading state information... Done\n",
            "build-essential is already the newest version (12.9ubuntu3).\n",
            "libcairo2-dev is already the newest version (1.16.0-5ubuntu2).\n",
            "libpango1.0-dev is already the newest version (1.50.6+ds-2ubuntu1).\n",
            "python3-dev is already the newest version (3.10.6-1~22.04).\n",
            "ffmpeg is already the newest version (7:4.4.2-0ubuntu0.22.04.1).\n",
            "0 upgraded, 0 newly installed, 0 to remove and 40 not upgraded.\n"
          ]
        }
      ],
      "source": [
        "!apt update\n",
        "!apt install build-essential python3-dev libcairo2-dev libpango1.0-dev ffmpeg"
      ]
    },
    {
      "cell_type": "code",
      "execution_count": 2,
      "metadata": {
        "colab": {
          "base_uri": "https://localhost:8080/"
        },
        "id": "hfBTm3df5MrF",
        "outputId": "ddadbde5-04af-4624-a7a7-356cad621c50"
      },
      "outputs": [
        {
          "name": "stdout",
          "output_type": "stream",
          "text": [
            "Requirement already satisfied: manim in /usr/local/lib/python3.10/dist-packages (0.18.0)\n",
            "Requirement already satisfied: Pillow<10.0,>=9.1 in /usr/local/lib/python3.10/dist-packages (from manim) (9.4.0)\n",
            "Requirement already satisfied: Pygments<3.0.0,>=2.10.0 in /usr/local/lib/python3.10/dist-packages (from manim) (2.16.1)\n",
            "Requirement already satisfied: click<=9.0,>=7.2 in /usr/local/lib/python3.10/dist-packages (from manim) (8.1.7)\n",
            "Requirement already satisfied: click-default-group<2.0.0,>=1.2.2 in /usr/local/lib/python3.10/dist-packages (from manim) (1.2.4)\n",
            "Requirement already satisfied: cloup<2.2,>=0.13 in /usr/local/lib/python3.10/dist-packages (from manim) (2.1.2)\n",
            "Requirement already satisfied: decorator<6.0.0,>=5.0.7 in /usr/local/lib/python3.10/dist-packages (from manim) (5.1.1)\n",
            "Requirement already satisfied: isosurfaces==0.1.0 in /usr/local/lib/python3.10/dist-packages (from manim) (0.1.0)\n",
            "Requirement already satisfied: manimpango<1.0.0,>=0.5.0 in /usr/local/lib/python3.10/dist-packages (from manim) (0.5.0)\n",
            "Requirement already satisfied: mapbox-earcut<2.0.0,>=1.0.0 in /usr/local/lib/python3.10/dist-packages (from manim) (1.0.1)\n",
            "Requirement already satisfied: moderngl<6.0.0,>=5.6.3 in /usr/local/lib/python3.10/dist-packages (from manim) (5.10.0)\n",
            "Requirement already satisfied: moderngl-window<3.0.0,>=2.3.0 in /usr/local/lib/python3.10/dist-packages (from manim) (2.4.4)\n",
            "Requirement already satisfied: networkx<3.3,>=2.5 in /usr/local/lib/python3.10/dist-packages (from manim) (3.2.1)\n",
            "Requirement already satisfied: numpy<2.0,>=1.22 in /usr/local/lib/python3.10/dist-packages (from manim) (1.25.2)\n",
            "Requirement already satisfied: pycairo<2.0,>=1.21 in /usr/local/lib/python3.10/dist-packages (from manim) (1.26.0)\n",
            "Requirement already satisfied: pydub<0.26.0,>=0.25.1 in /usr/local/lib/python3.10/dist-packages (from manim) (0.25.1)\n",
            "Requirement already satisfied: requests<3.0.0,>=2.26.0 in /usr/local/lib/python3.10/dist-packages (from manim) (2.31.0)\n",
            "Requirement already satisfied: rich!=12.0.0,>=6.0 in /usr/local/lib/python3.10/dist-packages (from manim) (13.7.1)\n",
            "Requirement already satisfied: scipy<2.0.0,>=1.7.3 in /usr/local/lib/python3.10/dist-packages (from manim) (1.11.4)\n",
            "Requirement already satisfied: screeninfo<0.9,>=0.8 in /usr/local/lib/python3.10/dist-packages (from manim) (0.8.1)\n",
            "Requirement already satisfied: skia-pathops<0.8.0,>=0.7.0 in /usr/local/lib/python3.10/dist-packages (from manim) (0.7.4)\n",
            "Requirement already satisfied: srt<4.0.0,>=3.5.0 in /usr/local/lib/python3.10/dist-packages (from manim) (3.5.3)\n",
            "Requirement already satisfied: svgelements<2.0.0,>=1.8.0 in /usr/local/lib/python3.10/dist-packages (from manim) (1.9.6)\n",
            "Requirement already satisfied: tqdm<5.0.0,>=4.62.3 in /usr/local/lib/python3.10/dist-packages (from manim) (4.66.2)\n",
            "Requirement already satisfied: typing-extensions<5.0.0,>=4.7.1 in /usr/local/lib/python3.10/dist-packages (from manim) (4.10.0)\n",
            "Requirement already satisfied: watchdog<=3.0.0,>=2.1 in /usr/local/lib/python3.10/dist-packages (from manim) (3.0.0)\n",
            "Requirement already satisfied: glcontext<3,>=2.5.0 in /usr/local/lib/python3.10/dist-packages (from moderngl<6.0.0,>=5.6.3->manim) (2.5.0)\n",
            "Requirement already satisfied: pyglet>=2.0dev23 in /usr/local/lib/python3.10/dist-packages (from moderngl-window<3.0.0,>=2.3.0->manim) (2.0.14)\n",
            "Requirement already satisfied: pyrr<1,>=0.10.3 in /usr/local/lib/python3.10/dist-packages (from moderngl-window<3.0.0,>=2.3.0->manim) (0.10.3)\n",
            "Requirement already satisfied: charset-normalizer<4,>=2 in /usr/local/lib/python3.10/dist-packages (from requests<3.0.0,>=2.26.0->manim) (3.3.2)\n",
            "Requirement already satisfied: idna<4,>=2.5 in /usr/local/lib/python3.10/dist-packages (from requests<3.0.0,>=2.26.0->manim) (3.6)\n",
            "Requirement already satisfied: urllib3<3,>=1.21.1 in /usr/local/lib/python3.10/dist-packages (from requests<3.0.0,>=2.26.0->manim) (2.0.7)\n",
            "Requirement already satisfied: certifi>=2017.4.17 in /usr/local/lib/python3.10/dist-packages (from requests<3.0.0,>=2.26.0->manim) (2024.2.2)\n",
            "Requirement already satisfied: markdown-it-py>=2.2.0 in /usr/local/lib/python3.10/dist-packages (from rich!=12.0.0,>=6.0->manim) (3.0.0)\n",
            "Requirement already satisfied: mdurl~=0.1 in /usr/local/lib/python3.10/dist-packages (from markdown-it-py>=2.2.0->rich!=12.0.0,>=6.0->manim) (0.1.2)\n",
            "Requirement already satisfied: multipledispatch in /usr/local/lib/python3.10/dist-packages (from pyrr<1,>=0.10.3->moderngl-window<3.0.0,>=2.3.0->manim) (1.0.0)\n"
          ]
        }
      ],
      "source": [
        "!pip install manim"
      ]
    },
    {
      "cell_type": "code",
      "execution_count": 7,
      "metadata": {
        "colab": {
          "base_uri": "https://localhost:8080/"
        },
        "id": "HyYDLjjd58-7",
        "outputId": "8f0db2b1-cbe9-45f4-ccad-3654addee8ca"
      },
      "outputs": [
        {
          "name": "stdout",
          "output_type": "stream",
          "text": [
            "Name: manim\n",
            "Version: 0.18.0\n",
            "Summary: Animation engine for explanatory math videos.\n",
            "Home-page: https://www.manim.community/\n",
            "Author: The Manim Community Developers\n",
            "Author-email: contact@manim.community\n",
            "License: MIT\n",
            "Location: /usr/local/lib/python3.10/dist-packages\n",
            "Requires: click, click-default-group, cloup, decorator, isosurfaces, manimpango, mapbox-earcut, moderngl, moderngl-window, networkx, numpy, Pillow, pycairo, pydub, Pygments, requests, rich, scipy, screeninfo, skia-pathops, srt, svgelements, tqdm, typing-extensions, watchdog\n",
            "Required-by: \n"
          ]
        }
      ],
      "source": [
        "!pip show manim"
      ]
    },
    {
      "cell_type": "code",
      "execution_count": 7,
      "metadata": {
        "colab": {
          "base_uri": "https://localhost:8080/"
        },
        "id": "cy11rL35Lt3l",
        "outputId": "70001cd8-eecc-42bb-84e0-82becdddd65e"
      },
      "outputs": [
        {
          "name": "stdout",
          "output_type": "stream",
          "text": [
            "fatal: destination path 'claude3-video' already exists and is not an empty directory.\n",
            "/content/claude3-video\n"
          ]
        }
      ],
      "source": [
        "!git clone https://github.com/Sunwood-ai-labs/claude3-video.git\n",
        "%cd claude3-video/demo"
      ]
    },
    {
      "cell_type": "code",
      "execution_count": null,
      "metadata": {
        "colab": {
          "base_uri": "https://localhost:8080/"
        },
        "id": "IDdUo65R7naA",
        "outputId": "d4e0f47b-4959-4bcd-8bae-1918219bfa64"
      },
      "outputs": [
        {
          "name": "stdout",
          "output_type": "stream",
          "text": [
            "Manim Community \u001b[32mv0.\u001b[0m\u001b[32m18.0\u001b[0m\n",
            "\n",
            "\u001b[2;36m[03/10/24 11:46:44]\u001b[0m\u001b[2;36m \u001b[0m\u001b[32mINFO    \u001b[0m Animation \u001b[32m0\u001b[0m : Partial movie file written in    \u001b]8;id=800048;file:///usr/local/lib/python3.10/dist-packages/manim/scene/scene_file_writer.py\u001b\\\u001b[2mscene_file_writer.py\u001b[0m\u001b]8;;\u001b\\\u001b[2m:\u001b[0m\u001b]8;id=44911;file:///usr/local/lib/python3.10/dist-packages/manim/scene/scene_file_writer.py#527\u001b\\\u001b[2m527\u001b[0m\u001b]8;;\u001b\\\n",
            "\u001b[2;36m                    \u001b[0m         \u001b[32m'/content/claude3-video/media/videos/A_Neurons\u001b[0m \u001b[2m                        \u001b[0m\n",
            "\u001b[2;36m                    \u001b[0m         \u001b[32m_Perspective/1080p60/partial_movie_files/Neuro\u001b[0m \u001b[2m                        \u001b[0m\n",
            "\u001b[2;36m                    \u001b[0m         \u001b[32mnPOV/3529212410_1557418315_223132457.mp4'\u001b[0m      \u001b[2m                        \u001b[0m\n",
            "\u001b[2;36m[03/10/24 11:46:47]\u001b[0m\u001b[2;36m \u001b[0m\u001b[32mINFO    \u001b[0m Animation \u001b[32m1\u001b[0m : Partial movie file written in    \u001b]8;id=240911;file:///usr/local/lib/python3.10/dist-packages/manim/scene/scene_file_writer.py\u001b\\\u001b[2mscene_file_writer.py\u001b[0m\u001b]8;;\u001b\\\u001b[2m:\u001b[0m\u001b]8;id=411767;file:///usr/local/lib/python3.10/dist-packages/manim/scene/scene_file_writer.py#527\u001b\\\u001b[2m527\u001b[0m\u001b]8;;\u001b\\\n",
            "\u001b[2;36m                    \u001b[0m         \u001b[32m'/content/claude3-video/media/videos/A_Neurons\u001b[0m \u001b[2m                        \u001b[0m\n",
            "\u001b[2;36m                    \u001b[0m         \u001b[32m_Perspective/1080p60/partial_movie_files/Neuro\u001b[0m \u001b[2m                        \u001b[0m\n",
            "\u001b[2;36m                    \u001b[0m         \u001b[32mnPOV/3040924799_1733944848_1070133473.mp4'\u001b[0m     \u001b[2m                        \u001b[0m\n",
            "\u001b[2;36m[03/10/24 11:46:49]\u001b[0m\u001b[2;36m \u001b[0m\u001b[32mINFO    \u001b[0m Animation \u001b[32m2\u001b[0m : Partial movie file written in    \u001b]8;id=768471;file:///usr/local/lib/python3.10/dist-packages/manim/scene/scene_file_writer.py\u001b\\\u001b[2mscene_file_writer.py\u001b[0m\u001b]8;;\u001b\\\u001b[2m:\u001b[0m\u001b]8;id=881711;file:///usr/local/lib/python3.10/dist-packages/manim/scene/scene_file_writer.py#527\u001b\\\u001b[2m527\u001b[0m\u001b]8;;\u001b\\\n",
            "\u001b[2;36m                    \u001b[0m         \u001b[32m'/content/claude3-video/media/videos/A_Neurons\u001b[0m \u001b[2m                        \u001b[0m\n",
            "\u001b[2;36m                    \u001b[0m         \u001b[32m_Perspective/1080p60/partial_movie_files/Neuro\u001b[0m \u001b[2m                        \u001b[0m\n",
            "\u001b[2;36m                    \u001b[0m         \u001b[32mnPOV/3040924799_1144304744_3182642429.mp4'\u001b[0m     \u001b[2m                        \u001b[0m\n",
            "Animation 3: _MethodAnimation(Arrow), etc.:  64% 77/120 [00:03<00:02, 17.15it/s]"
          ]
        }
      ],
      "source": [
        "!manim -pqh A_Neurons_Perspective.py NeuronPOV"
      ]
    },
    {
      "cell_type": "code",
      "execution_count": null,
      "metadata": {
        "id": "QCIfDSEH6M24"
      },
      "outputs": [],
      "source": []
    }
  ],
  "metadata": {
    "colab": {
      "provenance": []
    },
    "kernelspec": {
      "display_name": "Python 3",
      "name": "python3"
    },
    "language_info": {
      "name": "python"
    }
  },
  "nbformat": 4,
  "nbformat_minor": 0
}
